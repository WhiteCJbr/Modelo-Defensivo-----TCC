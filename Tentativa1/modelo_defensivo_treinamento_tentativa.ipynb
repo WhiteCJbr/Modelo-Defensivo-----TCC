{
  "cells": [
    {
      "cell_type": "markdown",
      "id": "3a254a35",
      "metadata": {
        "id": "3a254a35"
      },
      "source": [
        "# Sistema de Detecção de Malware Polimórfico Controlado por LLM\n",
        "# Treinamento do Modelo Defensivo - Google Colab\n",
        "\n",
        "Este notebook contém o treinamento completo do modelo de detecção de malware keylogger polimórfico baseado no framework teórico-prático com Random Forest e MALAPI2019.\n",
        "\n",
        "**Objetivo:** Treinar um modelo capaz de identificar malware keylogger polimórfico cujo polimorfismo acontece via comunicação com um modelo de LLM.\n",
        "\n",
        "**Dataset:** MALAPI2019 - Contém sequências de chamadas de API de malwares e softwares benignos."
      ]
    },
    {
      "cell_type": "markdown",
      "id": "7498ee65",
      "metadata": {
        "id": "7498ee65"
      },
      "source": [
        "## 1. Importação de Bibliotecas e Configuração Inicial"
      ]
    },
    {
      "cell_type": "code",
      "source": [
        "from google.colab import drive\n",
        "drive.mount('/content/drive')"
      ],
      "metadata": {
        "colab": {
          "base_uri": "https://localhost:8080/"
        },
        "id": "UxcT90aMUVsZ",
        "outputId": "ee16c7ce-4970-4bc4-9da0-a6ef7b777e7b"
      },
      "id": "UxcT90aMUVsZ",
      "execution_count": 1,
      "outputs": [
        {
          "output_type": "stream",
          "name": "stdout",
          "text": [
            "Mounted at /content/drive\n"
          ]
        }
      ]
    },
    {
      "cell_type": "code",
      "execution_count": 2,
      "id": "10d91561",
      "metadata": {
        "colab": {
          "base_uri": "https://localhost:8080/"
        },
        "id": "10d91561",
        "outputId": "59997e47-f075-44b3-b134-3c8a114f0651"
      },
      "outputs": [
        {
          "output_type": "stream",
          "name": "stdout",
          "text": [
            "Requirement already satisfied: xgboost in /usr/local/lib/python3.12/dist-packages (3.0.4)\n",
            "Requirement already satisfied: numpy in /usr/local/lib/python3.12/dist-packages (from xgboost) (2.0.2)\n",
            "Requirement already satisfied: nvidia-nccl-cu12 in /usr/local/lib/python3.12/dist-packages (from xgboost) (2.27.3)\n",
            "Requirement already satisfied: scipy in /usr/local/lib/python3.12/dist-packages (from xgboost) (1.16.1)\n",
            "Requirement already satisfied: shap in /usr/local/lib/python3.12/dist-packages (0.48.0)\n",
            "Requirement already satisfied: numpy in /usr/local/lib/python3.12/dist-packages (from shap) (2.0.2)\n",
            "Requirement already satisfied: scipy in /usr/local/lib/python3.12/dist-packages (from shap) (1.16.1)\n",
            "Requirement already satisfied: scikit-learn in /usr/local/lib/python3.12/dist-packages (from shap) (1.6.1)\n",
            "Requirement already satisfied: pandas in /usr/local/lib/python3.12/dist-packages (from shap) (2.2.2)\n",
            "Requirement already satisfied: tqdm>=4.27.0 in /usr/local/lib/python3.12/dist-packages (from shap) (4.67.1)\n",
            "Requirement already satisfied: packaging>20.9 in /usr/local/lib/python3.12/dist-packages (from shap) (25.0)\n",
            "Requirement already satisfied: slicer==0.0.8 in /usr/local/lib/python3.12/dist-packages (from shap) (0.0.8)\n",
            "Requirement already satisfied: numba>=0.54 in /usr/local/lib/python3.12/dist-packages (from shap) (0.60.0)\n",
            "Requirement already satisfied: cloudpickle in /usr/local/lib/python3.12/dist-packages (from shap) (3.1.1)\n",
            "Requirement already satisfied: typing-extensions in /usr/local/lib/python3.12/dist-packages (from shap) (4.15.0)\n",
            "Requirement already satisfied: llvmlite<0.44,>=0.43.0dev0 in /usr/local/lib/python3.12/dist-packages (from numba>=0.54->shap) (0.43.0)\n",
            "Requirement already satisfied: python-dateutil>=2.8.2 in /usr/local/lib/python3.12/dist-packages (from pandas->shap) (2.9.0.post0)\n",
            "Requirement already satisfied: pytz>=2020.1 in /usr/local/lib/python3.12/dist-packages (from pandas->shap) (2025.2)\n",
            "Requirement already satisfied: tzdata>=2022.7 in /usr/local/lib/python3.12/dist-packages (from pandas->shap) (2025.2)\n",
            "Requirement already satisfied: joblib>=1.2.0 in /usr/local/lib/python3.12/dist-packages (from scikit-learn->shap) (1.5.2)\n",
            "Requirement already satisfied: threadpoolctl>=3.1.0 in /usr/local/lib/python3.12/dist-packages (from scikit-learn->shap) (3.6.0)\n",
            "Requirement already satisfied: six>=1.5 in /usr/local/lib/python3.12/dist-packages (from python-dateutil>=2.8.2->pandas->shap) (1.17.0)\n",
            "Requirement already satisfied: joblib in /usr/local/lib/python3.12/dist-packages (1.5.2)\n",
            "✅ Bibliotecas importadas com sucesso!\n"
          ]
        }
      ],
      "source": [
        "# Instalação de dependências específicas para Google Colab\n",
        "!pip install xgboost\n",
        "!pip install shap\n",
        "!pip install joblib\n",
        "\n",
        "# Importações principais\n",
        "import pandas as pd\n",
        "import numpy as np\n",
        "import joblib\n",
        "import warnings\n",
        "from datetime import datetime, timedelta\n",
        "import json\n",
        "from pathlib import Path\n",
        "import logging\n",
        "from collections import defaultdict, Counter\n",
        "\n",
        "# Bibliotecas de ML\n",
        "from sklearn.ensemble import RandomForestClassifier\n",
        "from sklearn.feature_extraction.text import TfidfVectorizer\n",
        "from sklearn.decomposition import PCA\n",
        "from sklearn.feature_selection import SelectKBest, mutual_info_classif\n",
        "from sklearn.model_selection import train_test_split, cross_val_score, GridSearchCV\n",
        "from sklearn.preprocessing import StandardScaler, LabelEncoder\n",
        "from sklearn.metrics import classification_report, confusion_matrix, roc_auc_score, accuracy_score\n",
        "import xgboost as xgb\n",
        "from sklearn.ensemble import VotingClassifier\n",
        "\n",
        "# Interpretabilidade\n",
        "import shap\n",
        "\n",
        "# Visualização\n",
        "import matplotlib.pyplot as plt\n",
        "import seaborn as sns\n",
        "\n",
        "warnings.filterwarnings('ignore')\n",
        "\n",
        "print(\"✅ Bibliotecas importadas com sucesso!\")"
      ]
    },
    {
      "cell_type": "markdown",
      "id": "da96a638",
      "metadata": {
        "id": "da96a638"
      },
      "source": [
        "## 2. Definição da Classe Principal do Sistema de Detecção"
      ]
    },
    {
      "cell_type": "code",
      "execution_count": 3,
      "id": "fc25afa0",
      "metadata": {
        "colab": {
          "base_uri": "https://localhost:8080/"
        },
        "id": "fc25afa0",
        "outputId": "1b52fdd1-d50c-4bfd-dfc9-739cab57ec9e"
      },
      "outputs": [
        {
          "output_type": "stream",
          "name": "stdout",
          "text": [
            "✅ Classe MalwareDetectionSystem definida!\n"
          ]
        }
      ],
      "source": [
        "class MalwareDetectionSystem:\n",
        "    \"\"\"\n",
        "    Sistema de Detecção de Malware Polimórfico Controlado por LLM\n",
        "    Implementa Random Forest otimizado com análise em tempo real\n",
        "    \"\"\"\n",
        "\n",
        "    def __init__(self, config_path=None):\n",
        "        self.config = self._load_config(config_path)\n",
        "        self.model = None\n",
        "        self.tfidf_vectorizer = None\n",
        "        self.pca = None\n",
        "        self.scaler = StandardScaler()\n",
        "        self.label_encoder = LabelEncoder()\n",
        "        self.feature_selector = None\n",
        "        self.shap_explainer = None\n",
        "\n",
        "        # Configurações para detecção em tempo real\n",
        "        self.api_calls_buffer = defaultdict(list)\n",
        "        self.detection_threshold = 0.7\n",
        "        self.temporal_window = 60  # segundos\n",
        "\n",
        "        # Métricas de performance\n",
        "        self.detection_metrics = {\n",
        "            'true_positives': 0,\n",
        "            'false_positives': 0,\n",
        "            'true_negatives': 0,\n",
        "            'false_negatives': 0,\n",
        "            'detection_times': []\n",
        "        }\n",
        "\n",
        "        self._setup_logging()\n",
        "\n",
        "    def _load_config(self, config_path):\n",
        "        \"\"\"Carrega configurações baseadas no framework teórico\"\"\"\n",
        "        default_config = {\n",
        "            'random_forest': {\n",
        "                'n_estimators': 300,  # Baseado na literatura: 100-500\n",
        "                'max_depth': None,\n",
        "                'min_samples_split': 5,\n",
        "                'min_samples_leaf': 2,\n",
        "                'criterion': 'gini',\n",
        "                'random_state': 42,\n",
        "                'n_jobs': -1\n",
        "            },\n",
        "            'tfidf': {\n",
        "                'max_features': 10000,\n",
        "                'ngram_range': (1, 2),\n",
        "                'min_df': 2,\n",
        "                'max_df': 0.95\n",
        "            },\n",
        "            'pca': {\n",
        "                'n_components': 0.95,  # Preservar 95% da variância\n",
        "                'random_state': 42\n",
        "            },\n",
        "            'feature_selection': {\n",
        "                'k_best': 2500  # 25-50% das características originais\n",
        "            },\n",
        "            'xgboost': {\n",
        "                'n_estimators': 100,\n",
        "                'max_depth': 6,\n",
        "                'learning_rate': 0.1,\n",
        "                'random_state': 42\n",
        "            }\n",
        "        }\n",
        "\n",
        "        if config_path and Path(config_path).exists():\n",
        "            with open(config_path, 'r') as f:\n",
        "                user_config = json.load(f)\n",
        "            default_config.update(user_config)\n",
        "\n",
        "        return default_config\n",
        "\n",
        "    def _setup_logging(self):\n",
        "        \"\"\"Configurar sistema de logging\"\"\"\n",
        "        logging.basicConfig(\n",
        "            level=logging.INFO,\n",
        "            format='%(asctime)s - %(levelname)s - %(message)s'\n",
        "        )\n",
        "        self.logger = logging.getLogger(__name__)\n",
        "\n",
        "print(\"✅ Classe MalwareDetectionSystem definida!\")"
      ]
    },
    {
      "cell_type": "markdown",
      "id": "aa6c2d8a",
      "metadata": {
        "id": "aa6c2d8a"
      },
      "source": [
        "## 3. Carregamento e Análise Exploratória do Dataset"
      ]
    },
    {
      "cell_type": "code",
      "execution_count": 4,
      "id": "489c702f",
      "metadata": {
        "colab": {
          "base_uri": "https://localhost:8080/"
        },
        "id": "489c702f",
        "outputId": "649f4165-ebfb-4b4a-d655-4fea0b199df2"
      },
      "outputs": [
        {
          "output_type": "stream",
          "name": "stdout",
          "text": [
            "✅ Métodos de carregamento adicionados!\n"
          ]
        }
      ],
      "source": [
        "# Adicionar métodos de carregamento de dados à classe\n",
        "def load_malapi_dataset(self, dataset_path):\n",
        "    \"\"\"\n",
        "    Carrega e processa o dataset MALAPI2019\n",
        "    \"\"\"\n",
        "    self.logger.info(\"Carregando dataset MALAPI2019...\")\n",
        "\n",
        "    try:\n",
        "        # Carregar dataset\n",
        "        if dataset_path.endswith('.csv'):\n",
        "            df = pd.read_csv(dataset_path)\n",
        "        elif dataset_path.endswith('.json'):\n",
        "            df = pd.read_json(dataset_path)\n",
        "        elif dataset_path.endswith('.txt'):\n",
        "            # Para arquivos .txt, assumir formato específico do MALAPI2019\n",
        "            df = pd.read_csv(dataset_path, delimiter='\\t', header=0)\n",
        "        else:\n",
        "            raise ValueError(\"Formato de dataset não suportado\")\n",
        "\n",
        "        self.logger.info(f\"Dataset carregado: {df.shape}\")\n",
        "\n",
        "        # Análise exploratória\n",
        "        self._exploratory_analysis(df)\n",
        "\n",
        "        return df\n",
        "\n",
        "    except Exception as e:\n",
        "        self.logger.error(f\"Erro ao carregar dataset: {e}\")\n",
        "        raise\n",
        "\n",
        "def _exploratory_analysis(self, df):\n",
        "    \"\"\"Análise exploratória do dataset\"\"\"\n",
        "    self.logger.info(\"=== ANÁLISE EXPLORATÓRIA ===\")\n",
        "    self.logger.info(f\"Formato do dataset: {df.shape}\")\n",
        "    self.logger.info(f\"Colunas: {list(df.columns)}\")\n",
        "\n",
        "    if 'label' in df.columns or 'class' in df.columns:\n",
        "        target_col = 'label' if 'label' in df.columns else 'class'\n",
        "        self.logger.info(f\"Distribuição de classes:\")\n",
        "        self.logger.info(f\"{df[target_col].value_counts()}\")\n",
        "\n",
        "    # Verificar valores ausentes\n",
        "    missing_values = df.isnull().sum()\n",
        "    if missing_values.any():\n",
        "        self.logger.warning(f\"Valores ausentes encontrados: {missing_values.sum()}\")\n",
        "\n",
        "# Adicionar métodos à classe\n",
        "MalwareDetectionSystem.load_malapi_dataset = load_malapi_dataset\n",
        "MalwareDetectionSystem._exploratory_analysis = _exploratory_analysis\n",
        "\n",
        "print(\"✅ Métodos de carregamento adicionados!\")"
      ]
    },
    {
      "cell_type": "markdown",
      "id": "d895c333",
      "metadata": {
        "id": "d895c333"
      },
      "source": [
        "## 4. Upload e Carregamento do Dataset"
      ]
    },
    {
      "cell_type": "code",
      "execution_count": null,
      "id": "94f70943",
      "metadata": {
        "id": "94f70943"
      },
      "outputs": [],
      "source": [
        "dataset_filename = '/content/drive/MyDrive/IFSP/all_analysis_data.txt'\n",
        "\n",
        "# Inicializar o sistema de detecção\n",
        "detector = MalwareDetectionSystem()\n",
        "\n",
        "# Carregar o dataset\n",
        "df = detector.load_malapi_dataset(dataset_filename)\n",
        "\n",
        "print(f\"📊 Dataset carregado: {df.shape}\")"
      ]
    },
    {
      "cell_type": "markdown",
      "source": [
        "## 4.1. Filtragem de Dados - Foco em Spyware\n",
        "\n",
        "Para este estudo específico sobre malware keylogger polimórfico, vamos filtrar o dataset para manter apenas os dados classificados como **\"Spyware\"** conforme o arquivo `labels.csv`. Esta filtragem é essencial pois nosso modelo defensivo tem como objetivo detectar especificamente este tipo de ameaça."
      ],
      "metadata": {
        "id": "bG5wUGFgWpi1"
      },
      "id": "bG5wUGFgWpi1"
    },
    {
      "cell_type": "code",
      "source": [
        "labels_filename = '/content/drive/MyDrive/IFSP/labels.csv'\n",
        "\n",
        "print(f\"✅ Arquivo '{labels_filename}' carregado com sucesso!\")\n",
        "\n",
        "# Carregar as labels\n",
        "labels_df = pd.read_csv(labels_filename, header=None, names=['label'])\n",
        "print(f\"📊 Labels carregadas: {labels_df.shape}\")\n",
        "\n",
        "# Verificar distribuição de labels\n",
        "print(f\"📈 Distribuição original de labels:\")\n",
        "label_counts = labels_df['label'].value_counts()\n",
        "print(label_counts)\n",
        "\n",
        "# Verificar se temos correspondência entre dataset e labels\n",
        "if len(df) != len(labels_df):\n",
        "    print(f\"⚠️ ATENÇÃO: Tamanhos diferentes - Dataset: {len(df)}, Labels: {len(labels_df)}\")\n",
        "    # Ajustar para o menor tamanho\n",
        "    min_size = min(len(df), len(labels_df))\n",
        "    df = df.iloc[:min_size].copy()\n",
        "    labels_df = labels_df.iloc[:min_size].copy()\n",
        "    print(f\"🔧 Ajustado para tamanho comum: {min_size}\")\n",
        "\n",
        "# Adicionar coluna de labels ao dataset principal\n",
        "df_with_labels = df.copy()\n",
        "df_with_labels['malware_type'] = labels_df['label']\n",
        "\n",
        "print(f\"✅ Labels adicionadas ao dataset principal!\")\n",
        "\n",
        "# Filtrar apenas dados classificados como \"Spyware\"\n",
        "spyware_mask = df_with_labels['malware_type'] == 'Spyware'\n",
        "df_spyware = df_with_labels[spyware_mask].copy()\n",
        "\n",
        "print(f\"\\n🎯 FILTRAGEM REALIZADA:\")\n",
        "print(f\"📊 Dataset original: {len(df_with_labels)} amostras\")\n",
        "print(f\"🕵️ Amostras Spyware: {len(df_spyware)} amostras\")\n",
        "print(f\"📉 Percentual Spyware: {len(df_spyware)/len(df_with_labels)*100:.2f}%\")\n",
        "\n",
        "# Verificar se temos dados suficientes para treinamento\n",
        "if len(df_spyware) < 100:\n",
        "    print(\"⚠️ ATENÇÃO: Poucos dados de Spyware encontrados!\")\n",
        "    print(\"Considere incluir dados benignos para criar um dataset balanceado...\")\n",
        "\n",
        "    # Criar dataset balanceado: Spyware vs Outros (como \"Benign\")\n",
        "    print(\"\\n🔄 Criando dataset balanceado: Spyware vs Outros...\")\n",
        "\n",
        "    # Amostrar outros tipos de malware como \"Outros\"\n",
        "    other_mask = df_with_labels['malware_type'] != 'Spyware'\n",
        "    df_others = df_with_labels[other_mask].copy()\n",
        "\n",
        "    # Pegar quantidade similar de \"outros\" para balancear\n",
        "    n_others = min(len(df_others), len(df_spyware) * 3)  # 3x mais \"outros\" para simular dados reais\n",
        "    df_others_sampled = df_others.sample(n=n_others, random_state=42)\n",
        "    df_others_sampled['malware_type'] = 'Others'  # Renomear para \"Others\"\n",
        "\n",
        "    # Combinar Spyware + Others\n",
        "    df_final = pd.concat([df_spyware, df_others_sampled], ignore_index=True)\n",
        "\n",
        "    print(f\"📊 Dataset final balanceado:\")\n",
        "    print(f\"  🕵️ Spyware: {len(df_spyware)} amostras\")\n",
        "    print(f\"  🔒 Others: {len(df_others_sampled)} amostras\")\n",
        "    print(f\"  📈 Total: {len(df_final)} amostras\")\n",
        "\n",
        "else:\n",
        "    # Se temos dados suficientes de Spyware, criar dataset binário: Spyware vs Benign\n",
        "    print(\"\\n🔄 Criando dataset binário: Spyware vs Benign...\")\n",
        "\n",
        "    # Simular dados benignos (assumindo que parte dos dados são benignos)\n",
        "    # Em uma implementação real, você teria dados benignos separados\n",
        "    df_final = df_spyware.copy()\n",
        "\n",
        "    # Para fins de demonstração, vamos criar uma classe \"Benign\" artificial\n",
        "    # baseada em uma amostra do dataset original (pode ser melhorada)\n",
        "    benign_size = len(df_spyware)\n",
        "    df_benign = df.sample(n=benign_size, random_state=42).copy()\n",
        "    df_benign['malware_type'] = 'Benign'\n",
        "\n",
        "    df_final = pd.concat([df_spyware, df_benign], ignore_index=True)\n",
        "\n",
        "    print(f\"📊 Dataset final:\")\n",
        "    print(f\"  🕵️ Spyware: {len(df_spyware)} amostras\")\n",
        "    print(f\"  ✅ Benign: {len(df_benign)} amostras\")\n",
        "    print(f\"  📈 Total: {len(df_final)} amostras\")\n",
        "\n",
        "# Atualizar o dataset global para usar o filtrado\n",
        "df = df_final.copy()\n",
        "\n",
        "print(f\"\\n✅ Filtragem concluída! Dataset atualizado com foco em Spyware.\")\n",
        "print(f\"📊 Novo formato do dataset: {df.shape}\")\n",
        "print(f\"🏷️ Distribuição final de classes:\")\n",
        "print(df['malware_type'].value_counts())"
      ],
      "metadata": {
        "colab": {
          "base_uri": "https://localhost:8080/"
        },
        "id": "-t-TJqdgWrJ9",
        "outputId": "3d0523cc-829f-49c5-f3a5-7453f8f583df"
      },
      "id": "-t-TJqdgWrJ9",
      "execution_count": 8,
      "outputs": [
        {
          "output_type": "stream",
          "name": "stdout",
          "text": [
            "✅ Arquivo '/content/drive/MyDrive/IFSP/labels.csv' carregado com sucesso!\n",
            "📊 Labels carregadas: (7107, 1)\n",
            "📈 Distribuição original de labels:\n",
            "label\n",
            "Trojan        1001\n",
            "Backdoor      1001\n",
            "Downloader    1001\n",
            "Worms         1001\n",
            "Virus         1001\n",
            "Dropper        891\n",
            "Spyware        832\n",
            "Adware         379\n",
            "Name: count, dtype: int64\n",
            "⚠️ ATENÇÃO: Tamanhos diferentes - Dataset: 7106, Labels: 7107\n",
            "🔧 Ajustado para tamanho comum: 7106\n",
            "✅ Labels adicionadas ao dataset principal!\n",
            "\n",
            "🎯 FILTRAGEM REALIZADA:\n",
            "📊 Dataset original: 7106 amostras\n",
            "🕵️ Amostras Spyware: 832 amostras\n",
            "📉 Percentual Spyware: 11.71%\n",
            "\n",
            "🔄 Criando dataset binário: Spyware vs Benign...\n",
            "📊 Dataset final:\n",
            "  🕵️ Spyware: 832 amostras\n",
            "  ✅ Benign: 832 amostras\n",
            "  📈 Total: 1664 amostras\n",
            "\n",
            "✅ Filtragem concluída! Dataset atualizado com foco em Spyware.\n",
            "📊 Novo formato do dataset: (1664, 2)\n",
            "🏷️ Distribuição final de classes:\n",
            "malware_type\n",
            "Spyware    832\n",
            "Benign     832\n",
            "Name: count, dtype: int64\n"
          ]
        }
      ]
    },
    {
      "cell_type": "markdown",
      "id": "4900018b",
      "metadata": {
        "id": "4900018b"
      },
      "source": [
        "## 5. Métodos de Pré-processamento"
      ]
    },
    {
      "cell_type": "code",
      "execution_count": 12,
      "id": "06a982f2",
      "metadata": {
        "colab": {
          "base_uri": "https://localhost:8080/"
        },
        "id": "06a982f2",
        "outputId": "96012f2d-d59a-40f3-ba1f-172f904c5ab3"
      },
      "outputs": [
        {
          "output_type": "stream",
          "name": "stdout",
          "text": [
            "✅ Métodos de pré-processamento adicionados!\n"
          ]
        }
      ],
      "source": [
        "def preprocess_data(self, df, target_column='class'):\n",
        "    \"\"\"\n",
        "    Pré-processamento completo baseado no framework teórico\n",
        "    \"\"\"\n",
        "    self.logger.info(\"Iniciando pré-processamento...\")\n",
        "\n",
        "    try:\n",
        "        # Separar features e target\n",
        "        if target_column not in df.columns:\n",
        "            # Tentar encontrar coluna de target automaticamente\n",
        "            possible_targets = ['class', 'label', 'malware_type', 'family']\n",
        "            target_column = next((col for col in possible_targets if col in df.columns), None)\n",
        "\n",
        "            if target_column is None:\n",
        "                raise ValueError(\"Coluna de target não encontrada\")\n",
        "\n",
        "        y = df[target_column]\n",
        "        X = df.drop(columns=[target_column])\n",
        "\n",
        "        # Codificar labels\n",
        "        y_encoded = self.label_encoder.fit_transform(y)\n",
        "\n",
        "        # Processar chamadas de API ou usar features numéricas\n",
        "        api_calls_column = None\n",
        "        if 'api_calls' in X.columns:\n",
        "            api_calls_column = 'api_calls'\n",
        "        elif X.shape[1] == 1: # If there's only one column left, assume it's the API calls\n",
        "             api_calls_column = X.columns[0]\n",
        "\n",
        "\n",
        "        if api_calls_column:\n",
        "             self.logger.info(f\"Processando coluna de chamadas de API: {api_calls_column}\")\n",
        "             api_sequences = self._process_api_calls(X[api_calls_column])\n",
        "             X_processed_features = self._apply_tfidf(api_sequences)\n",
        "\n",
        "        else:\n",
        "            # Se não houver coluna específica de API Calls, usar todas as features numéricas restantes\n",
        "            self.logger.info(\"Usando features numéricas para pré-processamento.\")\n",
        "            numeric_features = X.select_dtypes(include=[np.number])\n",
        "            if numeric_features.empty:\n",
        "                 raise ValueError(\"Não há coluna de chamadas de API nem features numéricas para processar.\")\n",
        "            # Aplicar normalização em features numéricas\n",
        "            X_processed_features = self.scaler.fit_transform(numeric_features)\n",
        "\n",
        "\n",
        "        # Aplicar PCA se necessário ANTES da seleção de features, para não selecionar features de um espaço de maior dimensão\n",
        "        if X_processed_features.shape[1] > 1000:\n",
        "            self.logger.info(f\"Aplicando PCA. Dimensionalidade antes: {X_processed_features.shape[1]}\")\n",
        "            X_reduced = self._apply_pca(X_processed_features)\n",
        "            self.logger.info(f\"Dimensionalidade após PCA: {X_reduced.shape[1]}\")\n",
        "        else:\n",
        "            X_reduced = X_processed_features\n",
        "            self.logger.info(\"PCA não aplicado (dimensionalidade <= 1000).\")\n",
        "\n",
        "\n",
        "        # Seleção de características usando Mutual Information NO ESPAÇO REDUZIDO PELO PCA (se aplicado)\n",
        "        X_final = self._feature_selection(X_reduced, y_encoded)\n",
        "\n",
        "\n",
        "        self.logger.info(f\"Pré-processamento concluído. Formato final: {X_final.shape}\")\n",
        "\n",
        "        return X_final, y_encoded\n",
        "\n",
        "    except Exception as e:\n",
        "        self.logger.error(f\"Erro no pré-processamento: {e}\")\n",
        "        raise\n",
        "\n",
        "def _process_api_calls(self, api_calls_series):\n",
        "    \"\"\"Processar sequências de chamadas de API\"\"\"\n",
        "    processed_calls = []\n",
        "\n",
        "    for calls in api_calls_series:\n",
        "        if isinstance(calls, str):\n",
        "            # Se for string, assumir que são chamadas separadas por vírgula/espaço\n",
        "            call_sequence = ' '.join(calls.split())\n",
        "        elif isinstance(calls, list):\n",
        "            # Se for lista, juntar em string\n",
        "            call_sequence = ' '.join(str(call) for call in calls)\n",
        "        else:\n",
        "            call_sequence = str(calls)\n",
        "\n",
        "        processed_calls.append(call_sequence)\n",
        "\n",
        "    return pd.Series(processed_calls)\n",
        "\n",
        "\n",
        "def _apply_tfidf(self, text_series):\n",
        "    \"\"\"Aplicar TF-IDF conforme framework teórico\"\"\"\n",
        "    self.logger.info(\"Aplicando TF-IDF...\")\n",
        "\n",
        "    # Ajustar max_features com base no tamanho do vocabulário e na configuração\n",
        "    max_features_config = self.config['tfidf']['max_features']\n",
        "    # Contar palavras únicas no texto para estimar o vocabulário\n",
        "    all_words = ' '.join(text_series).split()\n",
        "    unique_words = len(set(all_words))\n",
        "    max_features_actual = min(max_features_config, unique_words)\n",
        "    self.logger.info(f\"Max features para TF-IDF: {max_features_actual}\")\n",
        "\n",
        "    self.tfidf_vectorizer = TfidfVectorizer(\n",
        "        max_features=max_features_actual,\n",
        "        ngram_range=self.config['tfidf']['ngram_range'],\n",
        "        min_df=self.config['tfidf']['min_df'],\n",
        "        max_df=self.config['tfidf']['max_df']\n",
        "    )\n",
        "    X_tfidf = self.tfidf_vectorizer.fit_transform(text_series)\n",
        "\n",
        "    self.logger.info(f\"TF-IDF aplicado. Formato: {X_tfidf.shape}\")\n",
        "\n",
        "    return X_tfidf.toarray()\n",
        "\n",
        "def _feature_selection(self, X, y):\n",
        "    \"\"\"Seleção de características usando Mutual Information\"\"\"\n",
        "    self.logger.info(\"Aplicando seleção de características...\")\n",
        "\n",
        "    # Ajustar k_best com base na dimensionalidade atual e na configuração\n",
        "    k_best_config = self.config['feature_selection']['k_best']\n",
        "    k_best_actual = min(k_best_config, X.shape[1])\n",
        "    self.logger.info(f\"Selecionando {k_best_actual} melhores características...\")\n",
        "\n",
        "    self.feature_selector = SelectKBest(score_func=mutual_info_classif, k=k_best_actual)\n",
        "\n",
        "    # Fit and transform on the input data X\n",
        "    X_selected = self.feature_selector.fit_transform(X, y)\n",
        "\n",
        "    self.logger.info(f\"Características selecionadas. Formato: {X_selected.shape}\")\n",
        "\n",
        "    return X_selected\n",
        "\n",
        "\n",
        "def _apply_pca(self, X):\n",
        "    \"\"\"Aplicar PCA para redução de dimensionalidade\"\"\"\n",
        "    self.logger.info(\"Aplicando PCA...\")\n",
        "\n",
        "    # Ajustar n_components com base na dimensionalidade atual\n",
        "    n_components_config = self.config['pca']['n_components']\n",
        "    if isinstance(n_components_config, float) and n_components_config > 0 and n_components_config <= 1.0:\n",
        "        # Se for float, usar a proporção da variância explicada\n",
        "        n_components_actual = n_components_config\n",
        "    elif isinstance(n_components_config, int) and n_components_config > 0:\n",
        "        # Se for int, usar o número fixo de componentes, mas não mais que a dimensionalidade\n",
        "        n_components_actual = min(n_components_config, X.shape[1])\n",
        "    else:\n",
        "        # Default para 95% da variância se a configuração for inválida\n",
        "        n_components_actual = 0.95\n",
        "        self.logger.warning(f\"Configuração inválida para n_components do PCA: {n_components_config}. Usando 0.95.\")\n",
        "\n",
        "\n",
        "    self.pca = PCA(n_components=n_components_actual, random_state=self.config['pca']['random_state'])\n",
        "    X_pca = self.pca.fit_transform(X)\n",
        "\n",
        "    explained_variance = sum(self.pca.explained_variance_ratio_)\n",
        "    self.logger.info(f\"PCA aplicado. Componentes: {self.pca.n_components_}, Variância explicada: {explained_variance:.3f}\")\n",
        "\n",
        "\n",
        "    return X_pca\n",
        "\n",
        "# Adicionar métodos à classe\n",
        "MalwareDetectionSystem.preprocess_data = preprocess_data\n",
        "MalwareDetectionSystem._process_api_calls = _process_api_calls\n",
        "MalwareDetectionSystem._apply_tfidf = _apply_tfidf\n",
        "MalwareDetectionSystem._feature_selection = _feature_selection\n",
        "MalwareDetectionSystem._apply_pca = _apply_pca\n",
        "\n",
        "print(\"✅ Métodos de pré-processamento adicionados!\")"
      ]
    },
    {
      "cell_type": "markdown",
      "id": "041fda6a",
      "metadata": {
        "id": "041fda6a"
      },
      "source": [
        "## 6. Pré-processamento dos Dados"
      ]
    },
    {
      "cell_type": "code",
      "execution_count": 13,
      "id": "e8000f18",
      "metadata": {
        "colab": {
          "base_uri": "https://localhost:8080/"
        },
        "id": "e8000f18",
        "outputId": "75815298-646c-4871-83ce-3176b90dafbd"
      },
      "outputs": [
        {
          "output_type": "stream",
          "name": "stdout",
          "text": [
            "🔄 Iniciando pré-processamento dos dados...\n",
            "🎯 Coluna de target identificada: malware_type\n",
            "✅ Pré-processamento concluído!\n",
            "📊 Formato dos dados processados: (1664, 260)\n",
            "🏷️ Classes identificadas: ['Benign' 'Spyware']\n",
            "📈 Distribuição de classes: [832 832]\n"
          ]
        }
      ],
      "source": [
        "# Executar pré-processamento\n",
        "print(\"🔄 Iniciando pré-processamento dos dados...\")\n",
        "\n",
        "# Identificar automaticamente a coluna de target\n",
        "target_candidates = ['class', 'label', 'malware_type', 'family']\n",
        "target_column = None\n",
        "\n",
        "for candidate in target_candidates:\n",
        "    if candidate in df.columns:\n",
        "        target_column = candidate\n",
        "        break\n",
        "\n",
        "if target_column is None:\n",
        "    print(\"❌ Coluna de target não encontrada. Colunas disponíveis:\")\n",
        "    print(df.columns.tolist())\n",
        "    # Permitir seleção manual\n",
        "    print(\"Por favor, especifique manualmente a coluna de target:\")\n",
        "    target_column = input()\n",
        "\n",
        "print(f\"🎯 Coluna de target identificada: {target_column}\")\n",
        "\n",
        "# Executar pré-processamento\n",
        "X_processed, y_processed = detector.preprocess_data(df, target_column=target_column)\n",
        "\n",
        "print(f\"✅ Pré-processamento concluído!\")\n",
        "print(f\"📊 Formato dos dados processados: {X_processed.shape}\")\n",
        "print(f\"🏷️ Classes identificadas: {detector.label_encoder.classes_}\")\n",
        "print(f\"📈 Distribuição de classes: {np.bincount(y_processed)}\")"
      ]
    },
    {
      "cell_type": "markdown",
      "id": "76c87843",
      "metadata": {
        "id": "76c87843"
      },
      "source": [
        "## 7. Métodos de Treinamento do Modelo"
      ]
    },
    {
      "cell_type": "code",
      "execution_count": 16,
      "id": "5f4801d3",
      "metadata": {
        "colab": {
          "base_uri": "https://localhost:8080/"
        },
        "id": "5f4801d3",
        "outputId": "e5a59eb1-56fe-4ba3-9036-328f4d266421"
      },
      "outputs": [
        {
          "output_type": "stream",
          "name": "stdout",
          "text": [
            "✅ Métodos de treinamento adicionados!\n"
          ]
        }
      ],
      "source": [
        "def train_model(self, X, y, test_size=0.2, validation=True):\n",
        "    \"\"\"\n",
        "    Treinar modelo Random Forest otimizado com ensemble\n",
        "    \"\"\"\n",
        "    self.logger.info(\"Iniciando treinamento do modelo...\")\n",
        "\n",
        "    # Dividir dados\n",
        "    X_train, X_test, y_train, y_test = train_test_split(\n",
        "        X, y, test_size=test_size, random_state=42, stratify=y\n",
        "    )\n",
        "\n",
        "    # Configurar Random Forest\n",
        "    rf_model = RandomForestClassifier(**self.config['random_forest'])\n",
        "\n",
        "    # Configurar XGBoost para ensemble\n",
        "    xgb_model = xgb.XGBClassifier(**self.config['xgboost'])\n",
        "\n",
        "    # Criar ensemble com Voting Classifier\n",
        "    self.model = VotingClassifier(\n",
        "        estimators=[\n",
        "            ('rf', rf_model),\n",
        "            ('xgb', xgb_model)\n",
        "        ],\n",
        "        voting='soft'  # Usar probabilidades\n",
        "    )\n",
        "\n",
        "    # Treinar modelo\n",
        "    self.logger.info(\"Treinando ensemble...\")\n",
        "    self.model.fit(X_train, y_train)\n",
        "\n",
        "    # Validação\n",
        "    if validation:\n",
        "        self._validate_model(X_train, y_train, X_test, y_test)\n",
        "\n",
        "    # Configurar SHAP para interpretabilidade\n",
        "    self._setup_shap_explainer(X_train)\n",
        "\n",
        "    self.logger.info(\"Treinamento concluído!\")\n",
        "\n",
        "    return self.model\n",
        "\n",
        "def _validate_model(self, X_train, y_train, X_test, y_test):\n",
        "    \"\"\"Validação abrangente do modelo\"\"\"\n",
        "    self.logger.info(\"=== VALIDAÇÃO DO MODELO ===\")\n",
        "\n",
        "    # Predições\n",
        "    y_pred = self.model.predict(X_test)\n",
        "    y_pred_proba = self.model.predict_proba(X_test)\n",
        "\n",
        "    # Métricas básicas\n",
        "    accuracy = accuracy_score(y_test, y_pred)\n",
        "\n",
        "    # Para AUC em classificação binária, use as probabilidades da classe positiva\n",
        "    # Assumindo que a classe positiva (Spyware) é a segunda classe (índice 1)\n",
        "    if len(self.label_encoder.classes_) == 2:\n",
        "        # Find the index of the positive class ('Spyware')\n",
        "        positive_class_index = list(self.label_encoder.classes_).index('Spyware')\n",
        "        auc = roc_auc_score(y_test, y_pred_proba[:, positive_class_index])\n",
        "    else:\n",
        "        # Handle multi-class AUC if needed (e.g., using 'ovr' or 'ovo')\n",
        "        auc = roc_auc_score(y_test, y_pred_proba, multi_class='ovr')\n",
        "\n",
        "\n",
        "    self.logger.info(f\"Accuracy: {accuracy:.4f}\")\n",
        "    self.logger.info(f\"AUC: {auc:.4f}\")\n",
        "\n",
        "    # Relatório detalhado\n",
        "    report = classification_report(y_test, y_pred,\n",
        "                                 target_names=self.label_encoder.classes_)\n",
        "    self.logger.info(f\"Relatório de Classificação:\\n{report}\")\n",
        "\n",
        "    # Validação cruzada\n",
        "    cv_scores = cross_val_score(self.model, X_train, y_train, cv=5)\n",
        "    self.logger.info(f\"Cross-validation scores: {cv_scores}\")\n",
        "    self.logger.info(f\"CV Mean: {cv_scores.mean():.4f} (+/- {cv_scores.std() * 2:.4f})\")\n",
        "\n",
        "    # Retornar métricas para visualização\n",
        "    return {\n",
        "        'accuracy': accuracy,\n",
        "        'auc': auc,\n",
        "        'cv_scores': cv_scores,\n",
        "        'classification_report': report,\n",
        "        'y_test': y_test,\n",
        "        'y_pred': y_pred,\n",
        "        'y_pred_proba': y_pred_proba\n",
        "    }\n",
        "\n",
        "def _setup_shap_explainer(self, X_train):\n",
        "    \"\"\"Configurar SHAP para interpretabilidade\"\"\"\n",
        "    try:\n",
        "        # Usar uma amostra menor para SHAP devido à complexidade computacional\n",
        "        sample_size = min(100, len(X_train))\n",
        "        X_sample = X_train[:sample_size]\n",
        "\n",
        "        self.shap_explainer = shap.Explainer(self.model.predict, X_sample)\n",
        "        self.logger.info(\"SHAP explainer configurado\")\n",
        "    except Exception as e:\n",
        "        self.logger.warning(f\"Não foi possível configurar SHAP: {e}\")\n",
        "\n",
        "def save_model(self, filepath):\n",
        "    \"\"\"Salvar modelo treinado\"\"\"\n",
        "    model_data = {\n",
        "        'model': self.model,\n",
        "        'tfidf_vectorizer': self.tfidf_vectorizer,\n",
        "        'pca': self.pca,\n",
        "        'scaler': self.scaler,\n",
        "        'label_encoder': self.label_encoder,\n",
        "        'feature_selector': self.feature_selector,\n",
        "        'config': self.config\n",
        "    }\n",
        "\n",
        "    joblib.dump(model_data, filepath)\n",
        "    self.logger.info(f\"Modelo salvo em: {filepath}\")\n",
        "\n",
        "# Adicionar métodos à classe\n",
        "MalwareDetectionSystem.train_model = train_model\n",
        "MalwareDetectionSystem._validate_model = _validate_model\n",
        "MalwareDetectionSystem._setup_shap_explainer = _setup_shap_explainer\n",
        "MalwareDetectionSystem.save_model = save_model\n",
        "\n",
        "print(\"✅ Métodos de treinamento adicionados!\")"
      ]
    },
    {
      "cell_type": "markdown",
      "id": "27798895",
      "metadata": {
        "id": "27798895"
      },
      "source": [
        "## 8. Treinamento do Modelo"
      ]
    },
    {
      "cell_type": "code",
      "execution_count": 17,
      "id": "44a015f5",
      "metadata": {
        "colab": {
          "base_uri": "https://localhost:8080/"
        },
        "id": "44a015f5",
        "outputId": "d647c642-1e76-4cbf-8801-19071b5a71da"
      },
      "outputs": [
        {
          "output_type": "stream",
          "name": "stdout",
          "text": [
            "🤖 Iniciando treinamento do modelo...\n",
            "⏱️ Este processo pode levar alguns minutos...\n",
            "✅ Treinamento concluído com sucesso!\n",
            "🎯 Modelo treinado: VotingClassifier\n"
          ]
        }
      ],
      "source": [
        "# Treinar o modelo\n",
        "print(\"🤖 Iniciando treinamento do modelo...\")\n",
        "print(\"⏱️ Este processo pode levar alguns minutos...\")\n",
        "\n",
        "# Treinar modelo com validação\n",
        "model = detector.train_model(X_processed, y_processed, test_size=0.2, validation=True)\n",
        "\n",
        "print(\"✅ Treinamento concluído com sucesso!\")\n",
        "print(f\"🎯 Modelo treinado: {type(model).__name__}\")"
      ]
    },
    {
      "cell_type": "markdown",
      "id": "ef9bb87f",
      "metadata": {
        "id": "ef9bb87f"
      },
      "source": [
        "## 9. Visualização dos Resultados"
      ]
    },
    {
      "cell_type": "code",
      "execution_count": 18,
      "id": "ac574eb1",
      "metadata": {
        "colab": {
          "base_uri": "https://localhost:8080/",
          "height": 1000
        },
        "id": "ac574eb1",
        "outputId": "50d0f8af-2698-471b-b457-c1ecdab1ed3e"
      },
      "outputs": [
        {
          "output_type": "display_data",
          "data": {
            "text/plain": [
              "<Figure size 1000x800 with 2 Axes>"
            ],
            "image/png": "[encoded data removed]"
          },
          "metadata": {}
        },
        {
          "output_type": "display_data",
          "data": {
            "text/plain": [
              "<Figure size 1000x600 with 1 Axes>"
            ],
            "image/png": "[encoded data removed]"
          },
          "metadata": {}
        },
        {
          "output_type": "stream",
          "name": "stdout",
          "text": [
            "\n",
            "📊 RESUMO DAS MÉTRICAS DE PERFORMANCE:\n",
            "==================================================\n",
            "🎯 Accuracy: 0.5946\n",
            "📈 AUC Score: 0.6244\n",
            "🔄 CV Mean: 0.5838 (±0.0257)\n",
            "\n",
            "📋 Relatório de Classificação:\n",
            "              precision    recall  f1-score   support\n",
            "\n",
            "      Benign       0.60      0.58      0.59       167\n",
            "     Spyware       0.59      0.61      0.60       166\n",
            "\n",
            "    accuracy                           0.59       333\n",
            "   macro avg       0.59      0.59      0.59       333\n",
            "weighted avg       0.59      0.59      0.59       333\n",
            "\n"
          ]
        }
      ],
      "source": [
        "# Executar validação detalhada para obter métricas\n",
        "X_train, X_test, y_train, y_test = train_test_split(\n",
        "    X_processed, y_processed, test_size=0.2, random_state=42, stratify=y_processed\n",
        ")\n",
        "\n",
        "validation_results = detector._validate_model(X_train, y_train, X_test, y_test)\n",
        "\n",
        "# Visualizar matriz de confusão\n",
        "plt.figure(figsize=(10, 8))\n",
        "cm = confusion_matrix(validation_results['y_test'], validation_results['y_pred'])\n",
        "sns.heatmap(cm, annot=True, fmt='d', cmap='Blues',\n",
        "            xticklabels=detector.label_encoder.classes_,\n",
        "            yticklabels=detector.label_encoder.classes_)\n",
        "plt.title('Matriz de Confusão - Modelo de Detecção de Malware')\n",
        "plt.xlabel('Predição')\n",
        "plt.ylabel('Real')\n",
        "plt.show()\n",
        "\n",
        "# Visualizar scores de validação cruzada\n",
        "plt.figure(figsize=(10, 6))\n",
        "cv_scores = validation_results['cv_scores']\n",
        "plt.bar(range(1, len(cv_scores) + 1), cv_scores)\n",
        "plt.axhline(y=cv_scores.mean(), color='r', linestyle='--',\n",
        "            label=f'Média: {cv_scores.mean():.4f}')\n",
        "plt.title('Scores de Validação Cruzada')\n",
        "plt.xlabel('Fold')\n",
        "plt.ylabel('Accuracy')\n",
        "plt.legend()\n",
        "plt.grid(True, alpha=0.3)\n",
        "plt.show()\n",
        "\n",
        "# Imprimir resumo das métricas\n",
        "print(\"\\n📊 RESUMO DAS MÉTRICAS DE PERFORMANCE:\")\n",
        "print(\"=\" * 50)\n",
        "print(f\"🎯 Accuracy: {validation_results['accuracy']:.4f}\")\n",
        "print(f\"📈 AUC Score: {validation_results['auc']:.4f}\")\n",
        "print(f\"🔄 CV Mean: {validation_results['cv_scores'].mean():.4f} (±{validation_results['cv_scores'].std():.4f})\")\n",
        "print(\"\\n📋 Relatório de Classificação:\")\n",
        "print(validation_results['classification_report'])"
      ]
    },
    {
      "cell_type": "markdown",
      "id": "849ae421",
      "metadata": {
        "id": "849ae421"
      },
      "source": [
        "## 10. Interpretabilidade com SHAP (Opcional)"
      ]
    },
    {
      "cell_type": "code",
      "execution_count": 19,
      "id": "7e991892",
      "metadata": {
        "colab": {
          "base_uri": "https://localhost:8080/",
          "height": 893
        },
        "id": "7e991892",
        "outputId": "9db6bbc7-87b5-4b1a-9e9c-b69f921b52bf"
      },
      "outputs": [
        {
          "output_type": "stream",
          "name": "stdout",
          "text": [
            "🔍 Gerando análise de interpretabilidade com SHAP...\n"
          ]
        },
        {
          "output_type": "stream",
          "name": "stderr",
          "text": [
            "PermutationExplainer explainer: 21it [00:29,  1.75s/it]\n"
          ]
        },
        {
          "output_type": "display_data",
          "data": {
            "text/plain": [
              "<Figure size 800x950 with 2 Axes>"
            ],
            "image/png": "[encoded data removed]"
          },
          "metadata": {}
        },
        {
          "output_type": "stream",
          "name": "stdout",
          "text": [
            "✅ Análise SHAP concluída!\n"
          ]
        }
      ],
      "source": [
        "# Análise de interpretabilidade com SHAP (se disponível)\n",
        "if detector.shap_explainer is not None:\n",
        "    print(\"🔍 Gerando análise de interpretabilidade com SHAP...\")\n",
        "\n",
        "    try:\n",
        "        # Usar uma pequena amostra para análise SHAP\n",
        "        sample_size = min(20, len(X_test))\n",
        "        X_sample = X_test[:sample_size]\n",
        "\n",
        "        # Calcular valores SHAP\n",
        "        shap_values = detector.shap_explainer(X_sample)\n",
        "\n",
        "        # Visualizar importância das características\n",
        "        plt.figure(figsize=(10, 8))\n",
        "        shap.summary_plot(shap_values, X_sample, show=False)\n",
        "        plt.title('Importância das Características - SHAP')\n",
        "        plt.tight_layout()\n",
        "        plt.show()\n",
        "\n",
        "        print(\"✅ Análise SHAP concluída!\")\n",
        "\n",
        "    except Exception as e:\n",
        "        print(f\"⚠️ Erro na análise SHAP: {e}\")\n",
        "        print(\"Continuando sem análise de interpretabilidade...\")\n",
        "else:\n",
        "    print(\"⚠️ SHAP explainer não disponível. Pulando análise de interpretabilidade.\")"
      ]
    },
    {
      "cell_type": "markdown",
      "id": "f6b70ff7",
      "metadata": {
        "id": "f6b70ff7"
      },
      "source": [
        "## 11. Salvar Modelo Treinado"
      ]
    },
    {
      "cell_type": "code",
      "execution_count": 20,
      "id": "3a2191e2",
      "metadata": {
        "colab": {
          "base_uri": "https://localhost:8080/",
          "height": 104
        },
        "id": "3a2191e2",
        "outputId": "b7013f58-8f66-4883-c8a8-65e7fae408e9"
      },
      "outputs": [
        {
          "output_type": "stream",
          "name": "stdout",
          "text": [
            "💾 Modelo salvo como: malware_detector_model.joblib\n",
            "📋 Informações do treinamento salvas em: training_info.json\n",
            "\n",
            "📥 Baixando arquivos do modelo...\n"
          ]
        },
        {
          "output_type": "display_data",
          "data": {
            "text/plain": [
              "<IPython.core.display.Javascript object>"
            ],
            "application/javascript": [
              "\n",
              "    async function download(id, filename, size) {\n",
              "      if (!google.colab.kernel.accessAllowed) {\n",
              "        return;\n",
              "      }\n",
              "      const div = document.createElement('div');\n",
              "      const label = document.createElement('label');\n",
              "      label.textContent = `Downloading \"${filename}\": `;\n",
              "      div.appendChild(label);\n",
              "      const progress = document.createElement('progress');\n",
              "      progress.max = size;\n",
              "      div.appendChild(progress);\n",
              "      document.body.appendChild(div);\n",
              "\n",
              "      const buffers = [];\n",
              "      let downloaded = 0;\n",
              "\n",
              "      const channel = await google.colab.kernel.comms.open(id);\n",
              "      // Send a message to notify the kernel that we're ready.\n",
              "      channel.send({})\n",
              "\n",
              "      for await (const message of channel.messages) {\n",
              "        // Send a message to notify the kernel that we're ready.\n",
              "        channel.send({})\n",
              "        if (message.buffers) {\n",
              "          for (const buffer of message.buffers) {\n",
              "            buffers.push(buffer);\n",
              "            downloaded += buffer.byteLength;\n",
              "            progress.value = downloaded;\n",
              "          }\n",
              "        }\n",
              "      }\n",
              "      const blob = new Blob(buffers, {type: 'application/binary'});\n",
              "      const a = document.createElement('a');\n",
              "      a.href = window.URL.createObjectURL(blob);\n",
              "      a.download = filename;\n",
              "      div.appendChild(a);\n",
              "      a.click();\n",
              "      div.remove();\n",
              "    }\n",
              "  "
            ]
          },
          "metadata": {}
        },
        {
          "output_type": "display_data",
          "data": {
            "text/plain": [
              "<IPython.core.display.Javascript object>"
            ],
            "application/javascript": [
              "download(\"download_2e8507d7-355d-4dc8-b8be-df9855349e9d\", \"malware_detector_model.joblib\", 9654474)"
            ]
          },
          "metadata": {}
        },
        {
          "output_type": "display_data",
          "data": {
            "text/plain": [
              "<IPython.core.display.Javascript object>"
            ],
            "application/javascript": [
              "\n",
              "    async function download(id, filename, size) {\n",
              "      if (!google.colab.kernel.accessAllowed) {\n",
              "        return;\n",
              "      }\n",
              "      const div = document.createElement('div');\n",
              "      const label = document.createElement('label');\n",
              "      label.textContent = `Downloading \"${filename}\": `;\n",
              "      div.appendChild(label);\n",
              "      const progress = document.createElement('progress');\n",
              "      progress.max = size;\n",
              "      div.appendChild(progress);\n",
              "      document.body.appendChild(div);\n",
              "\n",
              "      const buffers = [];\n",
              "      let downloaded = 0;\n",
              "\n",
              "      const channel = await google.colab.kernel.comms.open(id);\n",
              "      // Send a message to notify the kernel that we're ready.\n",
              "      channel.send({})\n",
              "\n",
              "      for await (const message of channel.messages) {\n",
              "        // Send a message to notify the kernel that we're ready.\n",
              "        channel.send({})\n",
              "        if (message.buffers) {\n",
              "          for (const buffer of message.buffers) {\n",
              "            buffers.push(buffer);\n",
              "            downloaded += buffer.byteLength;\n",
              "            progress.value = downloaded;\n",
              "          }\n",
              "        }\n",
              "      }\n",
              "      const blob = new Blob(buffers, {type: 'application/binary'});\n",
              "      const a = document.createElement('a');\n",
              "      a.href = window.URL.createObjectURL(blob);\n",
              "      a.download = filename;\n",
              "      div.appendChild(a);\n",
              "      a.click();\n",
              "      div.remove();\n",
              "    }\n",
              "  "
            ]
          },
          "metadata": {}
        },
        {
          "output_type": "display_data",
          "data": {
            "text/plain": [
              "<IPython.core.display.Javascript object>"
            ],
            "application/javascript": [
              "download(\"download_a9cc133f-5d4f-48ef-bf20-9e899c02acbb\", \"training_info.json\", 347)"
            ]
          },
          "metadata": {}
        },
        {
          "output_type": "stream",
          "name": "stdout",
          "text": [
            "✅ Arquivos baixados com sucesso!\n"
          ]
        }
      ],
      "source": [
        "# Salvar o modelo treinado\n",
        "model_filename = 'malware_detector_model.joblib'\n",
        "detector.save_model(model_filename)\n",
        "\n",
        "print(f\"💾 Modelo salvo como: {model_filename}\")\n",
        "\n",
        "# Salvar informações do treinamento\n",
        "training_info = {\n",
        "    'timestamp': datetime.now().isoformat(),\n",
        "    'dataset_shape': df.shape,\n",
        "    'processed_shape': X_processed.shape,\n",
        "    'target_column': target_column,\n",
        "    'classes': detector.label_encoder.classes_.tolist(),\n",
        "    'accuracy': validation_results['accuracy'],\n",
        "    'auc': validation_results['auc'],\n",
        "    'cv_mean': validation_results['cv_scores'].mean(),\n",
        "    'cv_std': validation_results['cv_scores'].std()\n",
        "}\n",
        "\n",
        "with open('training_info.json', 'w') as f:\n",
        "    json.dump(training_info, f, indent=2)\n",
        "\n",
        "print(\"📋 Informações do treinamento salvas em: training_info.json\")\n",
        "\n",
        "# Download dos arquivos para uso local (Google Colab)\n",
        "print(\"\\n📥 Baixando arquivos do modelo...\")\n",
        "files.download(model_filename)\n",
        "files.download('training_info.json')\n",
        "\n",
        "print(\"✅ Arquivos baixados com sucesso!\")"
      ]
    },
    {
      "cell_type": "markdown",
      "id": "5d83985f",
      "metadata": {
        "id": "5d83985f"
      },
      "source": [
        "## 12. Teste de Predição"
      ]
    },
    {
      "cell_type": "code",
      "execution_count": 21,
      "id": "b75bce68",
      "metadata": {
        "colab": {
          "base_uri": "https://localhost:8080/"
        },
        "id": "b75bce68",
        "outputId": "1dd497c9-2139-41f1-e131-bb623dbb0ae7"
      },
      "outputs": [
        {
          "output_type": "stream",
          "name": "stdout",
          "text": [
            "🧪 Testando predições em amostras do conjunto de teste...\n",
            "============================================================\n",
            "Amostra 1:\n",
            "  Real: Benign\n",
            "  Predito: Spyware\n",
            "  Confiança: 0.694\n",
            "  Status: ❌ INCORRETO\n",
            "----------------------------------------\n",
            "Amostra 2:\n",
            "  Real: Benign\n",
            "  Predito: Spyware\n",
            "  Confiança: 0.866\n",
            "  Status: ❌ INCORRETO\n",
            "----------------------------------------\n",
            "Amostra 3:\n",
            "  Real: Spyware\n",
            "  Predito: Spyware\n",
            "  Confiança: 0.657\n",
            "  Status: ✅ CORRETO\n",
            "----------------------------------------\n",
            "Amostra 4:\n",
            "  Real: Benign\n",
            "  Predito: Benign\n",
            "  Confiança: 0.590\n",
            "  Status: ✅ CORRETO\n",
            "----------------------------------------\n",
            "Amostra 5:\n",
            "  Real: Spyware\n",
            "  Predito: Benign\n",
            "  Confiança: 0.528\n",
            "  Status: ❌ INCORRETO\n",
            "----------------------------------------\n"
          ]
        }
      ],
      "source": [
        "# Função de teste para predição\n",
        "def test_prediction(detector, X_test_sample, y_test_sample, num_samples=5):\n",
        "    \"\"\"Testar predições em algumas amostras\"\"\"\n",
        "\n",
        "    print(\"🧪 Testando predições em amostras do conjunto de teste...\")\n",
        "    print(\"=\" * 60)\n",
        "\n",
        "    for i in range(min(num_samples, len(X_test_sample))):\n",
        "        sample = X_test_sample[i:i+1]\n",
        "        true_label = detector.label_encoder.inverse_transform([y_test_sample[i]])[0]\n",
        "\n",
        "        # Fazer predição\n",
        "        prediction = detector.model.predict(sample)[0]\n",
        "        predicted_label = detector.label_encoder.inverse_transform([prediction])[0]\n",
        "\n",
        "        # Obter probabilidades\n",
        "        probabilities = detector.model.predict_proba(sample)[0]\n",
        "        confidence = np.max(probabilities)\n",
        "\n",
        "        # Exibir resultado\n",
        "        status = \"✅ CORRETO\" if true_label == predicted_label else \"❌ INCORRETO\"\n",
        "        print(f\"Amostra {i+1}:\")\n",
        "        print(f\"  Real: {true_label}\")\n",
        "        print(f\"  Predito: {predicted_label}\")\n",
        "        print(f\"  Confiança: {confidence:.3f}\")\n",
        "        print(f\"  Status: {status}\")\n",
        "        print(\"-\" * 40)\n",
        "\n",
        "# Executar teste de predição\n",
        "test_prediction(detector, X_test, y_test, num_samples=5)"
      ]
    },
    {
      "cell_type": "markdown",
      "id": "0a38541f",
      "metadata": {
        "id": "0a38541f"
      },
      "source": [
        "## 13. Resumo Final"
      ]
    },
    {
      "cell_type": "code",
      "execution_count": 22,
      "id": "0bf1d8a0",
      "metadata": {
        "colab": {
          "base_uri": "https://localhost:8080/"
        },
        "id": "0bf1d8a0",
        "outputId": "c4f95216-31e9-465c-86f6-45c49993c9ab"
      },
      "outputs": [
        {
          "output_type": "stream",
          "name": "stdout",
          "text": [
            "🎉 TREINAMENTO DO MODELO DEFENSIVO CONCLUÍDO!\n",
            "============================================================\n",
            "\n",
            "📋 RESUMO DO TREINAMENTO:\n",
            "🗃️ Dataset original: (1664, 2)\n",
            "🔧 Dados processados: (1664, 260)\n",
            "🎯 Classes identificadas: 2\n",
            "📊 Accuracy: 0.5946\n",
            "📈 AUC Score: 0.6244\n",
            "🔄 CV Score: 0.5838 (±0.0257)\n",
            "\n",
            "🛡️ O modelo está pronto para detectar malware keylogger polimórfico!\n",
            "\n",
            "📁 Arquivos gerados:\n",
            "  • malware_detector_model.joblib - Modelo treinado\n",
            "  • training_info.json - Informações do treinamento\n",
            "\n",
            "🚀 Próximos passos:\n",
            "  1. Integrar o modelo com sistema de monitoramento Sysmon\n",
            "  2. Implementar detecção em tempo real\n",
            "  3. Configurar alertas e quarentena automática\n",
            "\n",
            "✅ Treinamento finalizado com sucesso!\n"
          ]
        }
      ],
      "source": [
        "print(\"🎉 TREINAMENTO DO MODELO DEFENSIVO CONCLUÍDO!\")\n",
        "print(\"=\" * 60)\n",
        "print(\"\\n📋 RESUMO DO TREINAMENTO:\")\n",
        "print(f\"🗃️ Dataset original: {df.shape}\")\n",
        "print(f\"🔧 Dados processados: {X_processed.shape}\")\n",
        "print(f\"🎯 Classes identificadas: {len(detector.label_encoder.classes_)}\")\n",
        "print(f\"📊 Accuracy: {validation_results['accuracy']:.4f}\")\n",
        "print(f\"📈 AUC Score: {validation_results['auc']:.4f}\")\n",
        "print(f\"🔄 CV Score: {validation_results['cv_scores'].mean():.4f} (±{validation_results['cv_scores'].std():.4f})\")\n",
        "\n",
        "print(\"\\n🛡️ O modelo está pronto para detectar malware keylogger polimórfico!\")\n",
        "print(\"\\n📁 Arquivos gerados:\")\n",
        "print(\"  • malware_detector_model.joblib - Modelo treinado\")\n",
        "print(\"  • training_info.json - Informações do treinamento\")\n",
        "\n",
        "print(\"\\n🚀 Próximos passos:\")\n",
        "print(\"  1. Integrar o modelo com sistema de monitoramento Sysmon\")\n",
        "print(\"  2. Implementar detecção em tempo real\")\n",
        "print(\"  3. Configurar alertas e quarentena automática\")\n",
        "print(\"\\n✅ Treinamento finalizado com sucesso!\")"
      ]
    }
  ],
  "metadata": {
    "language_info": {
      "name": "python"
    },
    "colab": {
      "provenance": []
    },
    "kernelspec": {
      "name": "python3",
      "display_name": "Python 3"
    }
  },
  "nbformat": 4,
  "nbformat_minor": 5
}